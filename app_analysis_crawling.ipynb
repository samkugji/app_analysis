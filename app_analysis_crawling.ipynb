{
 "cells": [
  {
   "cell_type": "code",
   "execution_count": 1,
   "metadata": {
    "collapsed": true
   },
   "outputs": [],
   "source": [
    "#!/usr/bin/env/ python3\n",
    "#-*- coding: utf-8 -*-"
   ]
  },
  {
   "cell_type": "code",
   "execution_count": 2,
   "metadata": {
    "collapsed": true
   },
   "outputs": [],
   "source": [
    "import requests  # 크롤링을 위한 라이브러리\n",
    "import pandas as pd\n",
    "\n",
    "from selenium import webdriver  # 파싱을 위한 라이브러리"
   ]
  },
  {
   "cell_type": "code",
   "execution_count": 3,
   "metadata": {
    "collapsed": false
   },
   "outputs": [],
   "source": [
    "# Crawling\n",
    "wiseapp_url = \"http://wiseapp.co.kr/app/detail/0b7ccf68c70c7cef178369d587b58ffa\"\n",
    "driver = webdriver.Firefox()\n",
    "driver.get(wiseapp_url)\n",
    "driver.implicitly_wait(10)\n",
    "app_elements = driver.find_elements_by_tag_name('circle')"
   ]
  },
  {
   "cell_type": "code",
   "execution_count": 4,
   "metadata": {
    "collapsed": false
   },
   "outputs": [],
   "source": [
    "element_list = []\n",
    "\n",
    "for app_element in app_elements:\n",
    "    element_list.append(app_element.get_attribute('aria-label'))"
   ]
  },
  {
   "cell_type": "code",
   "execution_count": 5,
   "metadata": {
    "collapsed": false
   },
   "outputs": [
    {
     "name": "stdout",
     "output_type": "stream",
     "text": [
      "     1       2\n",
      "0    0  16,171\n",
      "1    1  17,118\n",
      "2    2  12,133\n",
      "3    3   7,509\n",
      "4    4   5,525\n",
      "5    5   3,878\n",
      "6    6   6,495\n",
      "7    7   6,584\n",
      "8    8   9,224\n",
      "9    9   8,299\n",
      "10  10  13,781\n",
      "11  11  10,533\n",
      "12  12  14,141\n",
      "13  13  13,285\n",
      "14  14  13,803\n",
      "15  15  10,870\n",
      "16  16  10,194\n",
      "17  17  13,533\n",
      "18  18  10,329\n",
      "19  19  10,961\n",
      "20  20  14,682\n",
      "21  21  15,743\n",
      "22  22  21,811\n",
      "23  23  28,352\n",
      "      1     2        3\n",
      "0   설치자    3주  725,200\n",
      "1   설치자    4주  716,259\n",
      "2   설치자  5월1주  699,535\n",
      "3   설치자    2주  687,575\n",
      "4   설치자    3주  697,139\n",
      "5   설치자    4주  673,053\n",
      "6   설치자    5주  595,476\n",
      "7   설치자  6월1주  645,625\n",
      "8   설치자    2주  688,622\n",
      "9   설치자    3주  699,190\n",
      "10  설치자    4주  691,451\n",
      "11  설치자  7월1주  707,481\n",
      "12  설치자    2주  703,225\n",
      "13  설치자    3주  744,556\n",
      "14  설치자    4주  714,159\n",
      "15  설치자  8월1주  663,619\n",
      "         1  2     3     4\n",
      "0    graph  1    3주   210\n",
      "1    graph  1    4주   250\n",
      "2    graph  1  5월1주   237\n",
      "3    graph  1    2주   232\n",
      "4    graph  1    3주   254\n",
      "5    graph  1    4주   259\n",
      "6    graph  1    5주   285\n",
      "7    graph  1  6월1주   247\n",
      "8    graph  1    2주   251\n",
      "9    graph  1    3주   224\n",
      "10   graph  1    4주   197\n",
      "11   graph  1  7월1주   224\n",
      "12   graph  1    2주   216\n",
      "13   graph  1    3주   203\n",
      "14   graph  1    4주   209\n",
      "15   graph  1  8월1주   204\n",
      "16   graph  2    3주     3\n",
      "17   graph  2    4주     3\n",
      "18   graph  2  5월1주     3\n",
      "19   graph  2    2주     3\n",
      "20   graph  2    3주     3\n",
      "21   graph  2    4주     3\n",
      "22   graph  2    5주     3\n",
      "23   graph  2  6월1주     3\n",
      "24   graph  2    2주     3\n",
      "25   graph  2    3주     3\n",
      "26   graph  2    4주     3\n",
      "27   graph  2  7월1주     3\n",
      "28   graph  2    2주     3\n",
      "29   graph  2    3주     3\n",
      "..     ... ..   ...   ...\n",
      "98   graph  2  5월1주    76\n",
      "99   graph  2    2주  74.3\n",
      "100  graph  2    3주  75.4\n",
      "101  graph  2    4주  68.8\n",
      "102  graph  2    5주  69.4\n",
      "103  graph  2  6월1주  73.4\n",
      "104  graph  2    2주  73.4\n",
      "105  graph  2    3주  72.9\n",
      "106  graph  2    4주  80.5\n",
      "107  graph  2  7월1주  68.3\n",
      "108  graph  2    2주  78.6\n",
      "109  graph  2    3주  74.8\n",
      "110  graph  2    4주  71.6\n",
      "111  graph  2  8월1주  76.6\n",
      "112  graph  3    3주  86.5\n",
      "113  graph  3    4주  88.1\n",
      "114  graph  3  5월1주  89.2\n",
      "115  graph  3    2주  86.1\n",
      "116  graph  3    3주  86.9\n",
      "117  graph  3    4주  88.4\n",
      "118  graph  3    5주  89.6\n",
      "119  graph  3  6월1주  85.2\n",
      "120  graph  3    2주    87\n",
      "121  graph  3    3주  88.2\n",
      "122  graph  3    4주    90\n",
      "123  graph  3  7월1주  89.7\n",
      "124  graph  3    2주  88.4\n",
      "125  graph  3    3주  87.2\n",
      "126  graph  3    4주  86.4\n",
      "127  graph  3  8월1주  89.7\n",
      "\n",
      "[128 rows x 4 columns]\n",
      "    1   2   3     4    5\n",
      "0  전체  무료  랭킹    3주  392\n",
      "1  전체  무료  랭킹    4주  509\n",
      "2  전체  무료  랭킹  8월1주  543\n"
     ]
    }
   ],
   "source": [
    "two_df = pd.DataFrame(columns=[\n",
    "        \"1\",\n",
    "        \"2\",\n",
    "    ])\n",
    "\n",
    "three_df = pd.DataFrame(columns=[\n",
    "        \"1\",\n",
    "        \"2\",\n",
    "        \"3\",\n",
    "    ])\n",
    "\n",
    "four_df = pd.DataFrame(columns=[\n",
    "        \"1\",\n",
    "        \"2\",\n",
    "        \"3\",\n",
    "        \"4\",\n",
    "    ])\n",
    "\n",
    "five_df = pd.DataFrame(columns=[\n",
    "        \"1\",\n",
    "        \"2\",\n",
    "        \"3\",\n",
    "        \"4\",\n",
    "        \"5\",\n",
    "    ])\n",
    "\n",
    "for i in element_list:\n",
    "    if len(i.split()) == 2:\n",
    "        two_df.loc[len(two_df)] = i.split()\n",
    "    elif len(i.split()) == 3:\n",
    "        three_df.loc[len(three_df)] = i.split()\n",
    "    elif len(i.split()) == 4:\n",
    "        four_df.loc[len(four_df)] = i.split()\n",
    "    elif len(i.split()) == 5:\n",
    "        five_df.loc[len(five_df)] = i.split()\n",
    "    else:\n",
    "        print(\"=========There are rest===========\")\n",
    "        \n",
    "print(two_df)        \n",
    "print(three_df)\n",
    "print(four_df)\n",
    "print(five_df)"
   ]
  },
  {
   "cell_type": "code",
   "execution_count": 6,
   "metadata": {
    "collapsed": false
   },
   "outputs": [],
   "source": [
    "all_df = pd.concat([two_df, three_df, four_df, five_df])\n",
    "all_df.to_csv(\"wiseapp_8m1w.csv\", encoding='utf-8')"
   ]
  },
  {
   "cell_type": "code",
   "execution_count": 7,
   "metadata": {
    "collapsed": false
   },
   "outputs": [],
   "source": [
    "driver.close()"
   ]
  }
 ],
 "metadata": {
  "kernelspec": {
   "display_name": "Python 3",
   "language": "python",
   "name": "python3"
  },
  "language_info": {
   "codemirror_mode": {
    "name": "ipython",
    "version": 3
   },
   "file_extension": ".py",
   "mimetype": "text/x-python",
   "name": "python",
   "nbconvert_exporter": "python",
   "pygments_lexer": "ipython3",
   "version": "3.5.0"
  }
 },
 "nbformat": 4,
 "nbformat_minor": 0
}
